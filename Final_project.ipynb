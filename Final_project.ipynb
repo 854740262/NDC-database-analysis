{
 "cells": [
  {
   "cell_type": "code",
   "execution_count": 1,
   "metadata": {},
   "outputs": [],
   "source": [
    "import pandas as pd\n",
    "import numpy as np\n",
    "import codecs\n",
    "import seaborn as sns"
   ]
  },
  {
   "cell_type": "markdown",
   "metadata": {},
   "source": [
    "# Final Project Report\n",
    "\n",
    "- written by: Zening Li, Le Qin, Qingxu Wang"
   ]
  },
  {
   "cell_type": "markdown",
   "metadata": {},
   "source": [
    "## 1. Dataset and motivation slide"
   ]
  },
  {
   "cell_type": "markdown",
   "metadata": {},
   "source": [
    "Our dataset is about drug products in the United States. We found the data in https://www.fda.gov/Drugs/InformationOnDrugs/ucm142438.htm. The reason we collect the data is that drug abuse is an extreme issue in the United States. Drugs need to organized and controlled by the government. Also, Sometimes we wish to purchase OTC drugs, there is no list about the dosage and the curative effect, so it is hard to purchase the right drugs. We need to search for each individual drug we wish to purchase. Thus, we want to reorganize this raw dataset as a guide of drugs. We also want to find out which type of drugs and which form of dosage is more reliable.\n",
    "    \n",
    "The data contains: ProductID which is the concatenation of the NDCproduct code and SPL documentID, ProductNDC which is the labeler code and product code segments of the National Drug Code number, ProductTypeName which is the type of product, ProprietaryName which is the trade name, ProprietaryNameSuffix which is the suffix to the proprietary name, NonProprietaryName which is the active ingredient(s) of the product, DosageFormName which is the translation of the DosageForm Code, RouteName which is the translation of the Route Code, StartMarketingDate which is the starting date of its marketing of the drug product, EndMarketingDate which is the ending date the product will no longer be available on the market, MarketingCategoryName which is the final marketed product categories, LabelerName which is the name of the company, SubstanceName which is the active ingredient list, StrengthNumber which is the strength values of each active ingredient, StrengthUnit which is the units to be used with the strength values, Pharm_Classes which is the reported pharmacological class categories, DEASchedule which is the assigned DEA Schedule number, NDC_Exclude_Flag which is check whether the product has been removed/excluded from the NDC Directory for failure to respond to FDA’s requests for correction to deficient or non-compliant submissions, Listing_Record_Certified_Through which it the date when the listing record will expire."
   ]
  },
  {
   "cell_type": "markdown",
   "metadata": {},
   "source": [
    "## 2. Actual task definition/Research Question"
   ]
  },
  {
   "cell_type": "markdown",
   "metadata": {},
   "source": [
    "There are several real-world questions we wish to solve; the first question is the data is a raw data so there are a lot of duplication and misleading. For example, the data contains two different drugs but with same curative effect or two different drugs with same name but different curative effect. Also, it contains drugs which is not approved to use today. If people read the raw data and wish to purchase the medicine, the duplicate and misleading parts make people do not know what the right medicine is to choose. The raw dataset will cause a lot of trouble. if people wish to purchase a medicine in a rush, read the raw dataset will waste lots of time on finding the right medicine. Thus, our goal is to make this dataset readable and remove all the misleading and duplicate part so that this dataset will become the guide for people to purchase medicine in the United States. Also, it is easier for doctors to offer prescriptions because the dataset is more readable. The input is the raw dataset. The output is the clean dataset.\n",
    "\n",
    "The second question is that we want know what is the time period for most of the drugs publish to the public and why most of the drugs published to public in that period. The input is the STARTMARKETINGDATE. The output is the distribution of the year and the distribution of the month.\n",
    "\n",
    "The third question is that we want to count all the OTC drug dosage form. The reason is that OTC drug is people normally use. However, sometimes before people purchase the drug, they need to know how to use the drug. For example, if someone allergy with capsule they need to purchase other form of drug with the same effect. Thus, it is better to combine the drugs. The input are the PRODUCTTYPENAME, DOSAGEFORMNAME, STARTMARKETINGDATE. The output are the bar chart of the product type and the sum number for each type, and the violin plot with product type and start marketing date, and the box plot of Dosage form for OTC drug with the sum number for each form.\n",
    "\n",
    "The forth question is that we want to know which form of drug is more reliable. From our point of view, the longer the form of drug in the public the better reliability it have. The input are DOSAGEFORMNAME and STARTMARKETINGDATE. The output are the boxplots of each dosage in each time period."
   ]
  },
  {
   "cell_type": "markdown",
   "metadata": {},
   "source": [
    "## 3. Literature review"
   ]
  },
  {
   "cell_type": "markdown",
   "metadata": {},
   "source": [
    "### Comparing Generic and Innovator Drugs: A Review of 12 Years of Bioequivalence Data from the United States Food and Drug Administration\n",
    "https://journals.sagepub.com/doi/abs/10.1345/aph.1m141\n",
    "This research is about \"orally administered generic drug products\". The objective for this paper is \"to evaluate how well the bioequivalence measures of generic drugs approved in the US over a 12-year period compare with those of their corresponding innovator counterparts\". They are using the FDA data from 1996 to 2007. The result from this research is that \"the generic product AUC differed from that of the innovator product by less than 10%\".\n",
    "\n",
    "### Use of Prescription Antiobesity Drugs in the United States\n",
    "https://accpjournals.onlinelibrary.wiley.com/doi/abs/10.1002/phar.1342\n",
    "This research is about the \"antiobesity drug use in the United States\". The data source from \"The IMS Health Vector One National and Total Patient Tracker and Encuity Research Treatment Answers databases, the Source Healthcare Analytics Source Lx database, and IMS LifeLink database\". The time to analyze is between 1991 to 2001. The result is that \"Eighty‐five percent of antiobesity drug users were female, 62% were aged 17–44 years, and 4.5% had a body mass index of ≤ 24.9 kg/m2\", and the \"duration of use was generally short\".\n",
    "\n",
    "### Breast Cancer and Use of Nonsteroidal Anti-inflammatory Drugs: A Meta-analysis\n",
    "https://academic.oup.com/jnci/article/100/20/1439/899554\n",
    "This research is about use datas to \"examined the association between risk of breast cancer and use of NSAIDs\". The time between January 1, 1966 to July 1, 2008.  The result shows that \"NSAID use was associated with reduced risk for breast cancer (relative risk [RR] = 0.88, 95% confidence interval [CI] = 0.84 to 0.93)\". Thus this have enough information to show NSAID reduce the chance to get breast cancer.\n"
   ]
  },
  {
   "cell_type": "markdown",
   "metadata": {},
   "source": [
    "Compared to these research project, we are doing different analyze. However, we all wants to analyze the drugs in the United States with different time period. The different things is that we want to analyze more than one major part. We wish to use the data to provide customer or doctor a prespective on which type of drug or which form of dosage is more reliable. "
   ]
  },
  {
   "cell_type": "markdown",
   "metadata": {},
   "source": [
    "## 4. Data Cleaning"
   ]
  },
  {
   "cell_type": "code",
   "execution_count": 2,
   "metadata": {},
   "outputs": [],
   "source": [
    "# open the file\n",
    "product = pd.read_csv('product.csv', encoding = \"ISO-8859-1\")"
   ]
  },
  {
   "cell_type": "markdown",
   "metadata": {},
   "source": [
    "From the original Data, there is a unusual thing we had discover. There are a lot of ingredient unit in the data. The ingredient unit depends on the type of the drug. Although we wish to convert all the units into one unit, different type of drugs cannot convert to the same type of drug. Therefore, we ignore the problem."
   ]
  },
  {
   "cell_type": "markdown",
   "metadata": {},
   "source": [
    "We convert all the date into date format and remove all the product which is already get out from the market. Also for null value in the end market data attribute, we wish to keep all the null value because this provides that this product is not going to be out of market soon.\n",
    "\n",
    "When we convert the date, all the date type are float type which is not ususal for the date. From our point of view, even if the data is mess the date should be integer type. There is no reason why this is happen so we think this is unusual."
   ]
  },
  {
   "cell_type": "code",
   "execution_count": 3,
   "metadata": {},
   "outputs": [
    {
     "data": {
      "text/html": [
       "<div>\n",
       "<style scoped>\n",
       "    .dataframe tbody tr th:only-of-type {\n",
       "        vertical-align: middle;\n",
       "    }\n",
       "\n",
       "    .dataframe tbody tr th {\n",
       "        vertical-align: top;\n",
       "    }\n",
       "\n",
       "    .dataframe thead th {\n",
       "        text-align: right;\n",
       "    }\n",
       "</style>\n",
       "<table border=\"1\" class=\"dataframe\">\n",
       "  <thead>\n",
       "    <tr style=\"text-align: right;\">\n",
       "      <th></th>\n",
       "      <th>PRODUCTID</th>\n",
       "      <th>PRODUCTNDC</th>\n",
       "      <th>PRODUCTTYPENAME</th>\n",
       "      <th>PROPRIETARYNAME</th>\n",
       "      <th>PROPRIETARYNAMESUFFIX</th>\n",
       "      <th>NONPROPRIETARYNAME</th>\n",
       "      <th>DOSAGEFORMNAME</th>\n",
       "      <th>ROUTENAME</th>\n",
       "      <th>STARTMARKETINGDATE</th>\n",
       "      <th>ENDMARKETINGDATE</th>\n",
       "      <th>MARKETINGCATEGORYNAME</th>\n",
       "      <th>APPLICATIONNUMBER</th>\n",
       "      <th>LABELERNAME</th>\n",
       "      <th>SUBSTANCENAME</th>\n",
       "      <th>ACTIVE_NUMERATOR_STRENGTH</th>\n",
       "      <th>ACTIVE_INGRED_UNIT</th>\n",
       "      <th>PHARM_CLASSES</th>\n",
       "      <th>DEASCHEDULE</th>\n",
       "      <th>NDC_EXCLUDE_FLAG</th>\n",
       "      <th>LISTING_RECORD_CERTIFIED_THROUGH</th>\n",
       "    </tr>\n",
       "  </thead>\n",
       "  <tbody>\n",
       "    <tr>\n",
       "      <th>0</th>\n",
       "      <td>0002-0800_4bb5d1cb-0fa7-48c7-9f6d-8d45f9b91649</td>\n",
       "      <td>0002-0800</td>\n",
       "      <td>HUMAN OTC DRUG</td>\n",
       "      <td>Sterile Diluent</td>\n",
       "      <td>NaN</td>\n",
       "      <td>diluent</td>\n",
       "      <td>INJECTION, SOLUTION</td>\n",
       "      <td>SUBCUTANEOUS</td>\n",
       "      <td>1987-07-10</td>\n",
       "      <td>NaT</td>\n",
       "      <td>NDA</td>\n",
       "      <td>NDA018781</td>\n",
       "      <td>Eli Lilly and Company</td>\n",
       "      <td>WATER</td>\n",
       "      <td>1</td>\n",
       "      <td>mL/mL</td>\n",
       "      <td>NaN</td>\n",
       "      <td>NaN</td>\n",
       "      <td>N</td>\n",
       "      <td>2019-12-31</td>\n",
       "    </tr>\n",
       "    <tr>\n",
       "      <th>1</th>\n",
       "      <td>0002-1200_957ee1b5-dfa7-4e3f-96e1-6bed1ffc0abe</td>\n",
       "      <td>0002-1200</td>\n",
       "      <td>HUMAN PRESCRIPTION DRUG</td>\n",
       "      <td>Amyvid</td>\n",
       "      <td>NaN</td>\n",
       "      <td>Florbetapir F 18</td>\n",
       "      <td>INJECTION, SOLUTION</td>\n",
       "      <td>INTRAVENOUS</td>\n",
       "      <td>2012-06-01</td>\n",
       "      <td>NaT</td>\n",
       "      <td>NDA</td>\n",
       "      <td>NDA202008</td>\n",
       "      <td>Eli Lilly and Company</td>\n",
       "      <td>FLORBETAPIR F-18</td>\n",
       "      <td>51</td>\n",
       "      <td>mCi/mL</td>\n",
       "      <td>Radioactive Diagnostic Agent [EPC],Positron Em...</td>\n",
       "      <td>NaN</td>\n",
       "      <td>N</td>\n",
       "      <td>2019-12-31</td>\n",
       "    </tr>\n",
       "    <tr>\n",
       "      <th>2</th>\n",
       "      <td>0002-1407_14757f9d-f641-4836-acf3-229265588d1d</td>\n",
       "      <td>0002-1407</td>\n",
       "      <td>HUMAN PRESCRIPTION DRUG</td>\n",
       "      <td>Quinidine Gluconate</td>\n",
       "      <td>NaN</td>\n",
       "      <td>Quinidine Gluconate</td>\n",
       "      <td>SOLUTION</td>\n",
       "      <td>INTRAVENOUS</td>\n",
       "      <td>1950-07-12</td>\n",
       "      <td>NaT</td>\n",
       "      <td>NDA</td>\n",
       "      <td>NDA007529</td>\n",
       "      <td>Eli Lilly and Company</td>\n",
       "      <td>QUINIDINE GLUCONATE</td>\n",
       "      <td>80</td>\n",
       "      <td>mg/mL</td>\n",
       "      <td>Antiarrhythmic [EPC],Cytochrome P450 2D6 Inhib...</td>\n",
       "      <td>NaN</td>\n",
       "      <td>N</td>\n",
       "      <td>2019-12-31</td>\n",
       "    </tr>\n",
       "    <tr>\n",
       "      <th>3</th>\n",
       "      <td>0002-1433_7b0ec07f-bffa-467f-978a-45b1315107e5</td>\n",
       "      <td>0002-1433</td>\n",
       "      <td>HUMAN PRESCRIPTION DRUG</td>\n",
       "      <td>Trulicity</td>\n",
       "      <td>NaN</td>\n",
       "      <td>Dulaglutide</td>\n",
       "      <td>INJECTION, SOLUTION</td>\n",
       "      <td>SUBCUTANEOUS</td>\n",
       "      <td>2014-09-18</td>\n",
       "      <td>NaT</td>\n",
       "      <td>BLA</td>\n",
       "      <td>BLA125469</td>\n",
       "      <td>Eli Lilly and Company</td>\n",
       "      <td>DULAGLUTIDE</td>\n",
       "      <td>0.75</td>\n",
       "      <td>mg/.5mL</td>\n",
       "      <td>GLP-1 Receptor Agonist [EPC],Glucagon-Like Pep...</td>\n",
       "      <td>NaN</td>\n",
       "      <td>N</td>\n",
       "      <td>2019-12-31</td>\n",
       "    </tr>\n",
       "    <tr>\n",
       "      <th>4</th>\n",
       "      <td>0002-1434_7b0ec07f-bffa-467f-978a-45b1315107e5</td>\n",
       "      <td>0002-1434</td>\n",
       "      <td>HUMAN PRESCRIPTION DRUG</td>\n",
       "      <td>Trulicity</td>\n",
       "      <td>NaN</td>\n",
       "      <td>Dulaglutide</td>\n",
       "      <td>INJECTION, SOLUTION</td>\n",
       "      <td>SUBCUTANEOUS</td>\n",
       "      <td>2014-09-18</td>\n",
       "      <td>NaT</td>\n",
       "      <td>BLA</td>\n",
       "      <td>BLA125469</td>\n",
       "      <td>Eli Lilly and Company</td>\n",
       "      <td>DULAGLUTIDE</td>\n",
       "      <td>1.5</td>\n",
       "      <td>mg/.5mL</td>\n",
       "      <td>GLP-1 Receptor Agonist [EPC],Glucagon-Like Pep...</td>\n",
       "      <td>NaN</td>\n",
       "      <td>N</td>\n",
       "      <td>2019-12-31</td>\n",
       "    </tr>\n",
       "  </tbody>\n",
       "</table>\n",
       "</div>"
      ],
      "text/plain": [
       "                                        PRODUCTID PRODUCTNDC  \\\n",
       "0  0002-0800_4bb5d1cb-0fa7-48c7-9f6d-8d45f9b91649  0002-0800   \n",
       "1  0002-1200_957ee1b5-dfa7-4e3f-96e1-6bed1ffc0abe  0002-1200   \n",
       "2  0002-1407_14757f9d-f641-4836-acf3-229265588d1d  0002-1407   \n",
       "3  0002-1433_7b0ec07f-bffa-467f-978a-45b1315107e5  0002-1433   \n",
       "4  0002-1434_7b0ec07f-bffa-467f-978a-45b1315107e5  0002-1434   \n",
       "\n",
       "           PRODUCTTYPENAME      PROPRIETARYNAME PROPRIETARYNAMESUFFIX  \\\n",
       "0           HUMAN OTC DRUG      Sterile Diluent                   NaN   \n",
       "1  HUMAN PRESCRIPTION DRUG               Amyvid                   NaN   \n",
       "2  HUMAN PRESCRIPTION DRUG  Quinidine Gluconate                   NaN   \n",
       "3  HUMAN PRESCRIPTION DRUG            Trulicity                   NaN   \n",
       "4  HUMAN PRESCRIPTION DRUG            Trulicity                   NaN   \n",
       "\n",
       "    NONPROPRIETARYNAME       DOSAGEFORMNAME     ROUTENAME STARTMARKETINGDATE  \\\n",
       "0              diluent  INJECTION, SOLUTION  SUBCUTANEOUS         1987-07-10   \n",
       "1     Florbetapir F 18  INJECTION, SOLUTION   INTRAVENOUS         2012-06-01   \n",
       "2  Quinidine Gluconate             SOLUTION   INTRAVENOUS         1950-07-12   \n",
       "3          Dulaglutide  INJECTION, SOLUTION  SUBCUTANEOUS         2014-09-18   \n",
       "4          Dulaglutide  INJECTION, SOLUTION  SUBCUTANEOUS         2014-09-18   \n",
       "\n",
       "  ENDMARKETINGDATE MARKETINGCATEGORYNAME APPLICATIONNUMBER  \\\n",
       "0              NaT                   NDA         NDA018781   \n",
       "1              NaT                   NDA         NDA202008   \n",
       "2              NaT                   NDA         NDA007529   \n",
       "3              NaT                   BLA         BLA125469   \n",
       "4              NaT                   BLA         BLA125469   \n",
       "\n",
       "             LABELERNAME        SUBSTANCENAME ACTIVE_NUMERATOR_STRENGTH  \\\n",
       "0  Eli Lilly and Company                WATER                         1   \n",
       "1  Eli Lilly and Company     FLORBETAPIR F-18                        51   \n",
       "2  Eli Lilly and Company  QUINIDINE GLUCONATE                        80   \n",
       "3  Eli Lilly and Company          DULAGLUTIDE                      0.75   \n",
       "4  Eli Lilly and Company          DULAGLUTIDE                       1.5   \n",
       "\n",
       "  ACTIVE_INGRED_UNIT                                      PHARM_CLASSES  \\\n",
       "0              mL/mL                                                NaN   \n",
       "1             mCi/mL  Radioactive Diagnostic Agent [EPC],Positron Em...   \n",
       "2              mg/mL  Antiarrhythmic [EPC],Cytochrome P450 2D6 Inhib...   \n",
       "3            mg/.5mL  GLP-1 Receptor Agonist [EPC],Glucagon-Like Pep...   \n",
       "4            mg/.5mL  GLP-1 Receptor Agonist [EPC],Glucagon-Like Pep...   \n",
       "\n",
       "  DEASCHEDULE NDC_EXCLUDE_FLAG LISTING_RECORD_CERTIFIED_THROUGH  \n",
       "0         NaN                N                       2019-12-31  \n",
       "1         NaN                N                       2019-12-31  \n",
       "2         NaN                N                       2019-12-31  \n",
       "3         NaN                N                       2019-12-31  \n",
       "4         NaN                N                       2019-12-31  "
      ]
     },
     "execution_count": 3,
     "metadata": {},
     "output_type": "execute_result"
    }
   ],
   "source": [
    "# convert time into time format\n",
    "product['ENDMARKETINGDATE'] = pd.to_datetime(product['ENDMARKETINGDATE'], format='%Y%m%d', errors='ignore')\n",
    "# remove all the products which are out of date\n",
    "product = product[(product['ENDMARKETINGDATE']>'2019-03-16') | (product['ENDMARKETINGDATE'].isnull())]\n",
    "product['STARTMARKETINGDATE'] = pd.to_datetime(product['STARTMARKETINGDATE'], format='%Y%m%d', errors='ignore')\n",
    "product['LISTING_RECORD_CERTIFIED_THROUGH'] = pd.to_datetime(product['LISTING_RECORD_CERTIFIED_THROUGH'], format='%Y%m%d', errors='ignore')\n",
    "product.head()"
   ]
  },
  {
   "cell_type": "markdown",
   "metadata": {},
   "source": [
    "We drop some columns which is not useful for our project."
   ]
  },
  {
   "cell_type": "code",
   "execution_count": 4,
   "metadata": {},
   "outputs": [
    {
     "data": {
      "text/html": [
       "<div>\n",
       "<style scoped>\n",
       "    .dataframe tbody tr th:only-of-type {\n",
       "        vertical-align: middle;\n",
       "    }\n",
       "\n",
       "    .dataframe tbody tr th {\n",
       "        vertical-align: top;\n",
       "    }\n",
       "\n",
       "    .dataframe thead th {\n",
       "        text-align: right;\n",
       "    }\n",
       "</style>\n",
       "<table border=\"1\" class=\"dataframe\">\n",
       "  <thead>\n",
       "    <tr style=\"text-align: right;\">\n",
       "      <th></th>\n",
       "      <th>PRODUCTID</th>\n",
       "      <th>PRODUCTNDC</th>\n",
       "      <th>PRODUCTTYPENAME</th>\n",
       "      <th>PROPRIETARYNAME</th>\n",
       "      <th>NONPROPRIETARYNAME</th>\n",
       "      <th>DOSAGEFORMNAME</th>\n",
       "      <th>ROUTENAME</th>\n",
       "      <th>STARTMARKETINGDATE</th>\n",
       "      <th>ENDMARKETINGDATE</th>\n",
       "      <th>MARKETINGCATEGORYNAME</th>\n",
       "      <th>APPLICATIONNUMBER</th>\n",
       "      <th>LABELERNAME</th>\n",
       "      <th>SUBSTANCENAME</th>\n",
       "      <th>ACTIVE_NUMERATOR_STRENGTH</th>\n",
       "      <th>ACTIVE_INGRED_UNIT</th>\n",
       "      <th>PHARM_CLASSES</th>\n",
       "      <th>LISTING_RECORD_CERTIFIED_THROUGH</th>\n",
       "    </tr>\n",
       "  </thead>\n",
       "  <tbody>\n",
       "    <tr>\n",
       "      <th>0</th>\n",
       "      <td>0002-0800_4bb5d1cb-0fa7-48c7-9f6d-8d45f9b91649</td>\n",
       "      <td>0002-0800</td>\n",
       "      <td>HUMAN OTC DRUG</td>\n",
       "      <td>Sterile Diluent</td>\n",
       "      <td>diluent</td>\n",
       "      <td>INJECTION, SOLUTION</td>\n",
       "      <td>SUBCUTANEOUS</td>\n",
       "      <td>1987-07-10</td>\n",
       "      <td>NaT</td>\n",
       "      <td>NDA</td>\n",
       "      <td>NDA018781</td>\n",
       "      <td>Eli Lilly and Company</td>\n",
       "      <td>WATER</td>\n",
       "      <td>1</td>\n",
       "      <td>mL/mL</td>\n",
       "      <td>NaN</td>\n",
       "      <td>2019-12-31</td>\n",
       "    </tr>\n",
       "    <tr>\n",
       "      <th>1</th>\n",
       "      <td>0002-1200_957ee1b5-dfa7-4e3f-96e1-6bed1ffc0abe</td>\n",
       "      <td>0002-1200</td>\n",
       "      <td>HUMAN PRESCRIPTION DRUG</td>\n",
       "      <td>Amyvid</td>\n",
       "      <td>Florbetapir F 18</td>\n",
       "      <td>INJECTION, SOLUTION</td>\n",
       "      <td>INTRAVENOUS</td>\n",
       "      <td>2012-06-01</td>\n",
       "      <td>NaT</td>\n",
       "      <td>NDA</td>\n",
       "      <td>NDA202008</td>\n",
       "      <td>Eli Lilly and Company</td>\n",
       "      <td>FLORBETAPIR F-18</td>\n",
       "      <td>51</td>\n",
       "      <td>mCi/mL</td>\n",
       "      <td>Radioactive Diagnostic Agent [EPC],Positron Em...</td>\n",
       "      <td>2019-12-31</td>\n",
       "    </tr>\n",
       "    <tr>\n",
       "      <th>2</th>\n",
       "      <td>0002-1407_14757f9d-f641-4836-acf3-229265588d1d</td>\n",
       "      <td>0002-1407</td>\n",
       "      <td>HUMAN PRESCRIPTION DRUG</td>\n",
       "      <td>Quinidine Gluconate</td>\n",
       "      <td>Quinidine Gluconate</td>\n",
       "      <td>SOLUTION</td>\n",
       "      <td>INTRAVENOUS</td>\n",
       "      <td>1950-07-12</td>\n",
       "      <td>NaT</td>\n",
       "      <td>NDA</td>\n",
       "      <td>NDA007529</td>\n",
       "      <td>Eli Lilly and Company</td>\n",
       "      <td>QUINIDINE GLUCONATE</td>\n",
       "      <td>80</td>\n",
       "      <td>mg/mL</td>\n",
       "      <td>Antiarrhythmic [EPC],Cytochrome P450 2D6 Inhib...</td>\n",
       "      <td>2019-12-31</td>\n",
       "    </tr>\n",
       "    <tr>\n",
       "      <th>3</th>\n",
       "      <td>0002-1433_7b0ec07f-bffa-467f-978a-45b1315107e5</td>\n",
       "      <td>0002-1433</td>\n",
       "      <td>HUMAN PRESCRIPTION DRUG</td>\n",
       "      <td>Trulicity</td>\n",
       "      <td>Dulaglutide</td>\n",
       "      <td>INJECTION, SOLUTION</td>\n",
       "      <td>SUBCUTANEOUS</td>\n",
       "      <td>2014-09-18</td>\n",
       "      <td>NaT</td>\n",
       "      <td>BLA</td>\n",
       "      <td>BLA125469</td>\n",
       "      <td>Eli Lilly and Company</td>\n",
       "      <td>DULAGLUTIDE</td>\n",
       "      <td>0.75</td>\n",
       "      <td>mg/.5mL</td>\n",
       "      <td>GLP-1 Receptor Agonist [EPC],Glucagon-Like Pep...</td>\n",
       "      <td>2019-12-31</td>\n",
       "    </tr>\n",
       "    <tr>\n",
       "      <th>4</th>\n",
       "      <td>0002-1434_7b0ec07f-bffa-467f-978a-45b1315107e5</td>\n",
       "      <td>0002-1434</td>\n",
       "      <td>HUMAN PRESCRIPTION DRUG</td>\n",
       "      <td>Trulicity</td>\n",
       "      <td>Dulaglutide</td>\n",
       "      <td>INJECTION, SOLUTION</td>\n",
       "      <td>SUBCUTANEOUS</td>\n",
       "      <td>2014-09-18</td>\n",
       "      <td>NaT</td>\n",
       "      <td>BLA</td>\n",
       "      <td>BLA125469</td>\n",
       "      <td>Eli Lilly and Company</td>\n",
       "      <td>DULAGLUTIDE</td>\n",
       "      <td>1.5</td>\n",
       "      <td>mg/.5mL</td>\n",
       "      <td>GLP-1 Receptor Agonist [EPC],Glucagon-Like Pep...</td>\n",
       "      <td>2019-12-31</td>\n",
       "    </tr>\n",
       "  </tbody>\n",
       "</table>\n",
       "</div>"
      ],
      "text/plain": [
       "                                        PRODUCTID PRODUCTNDC  \\\n",
       "0  0002-0800_4bb5d1cb-0fa7-48c7-9f6d-8d45f9b91649  0002-0800   \n",
       "1  0002-1200_957ee1b5-dfa7-4e3f-96e1-6bed1ffc0abe  0002-1200   \n",
       "2  0002-1407_14757f9d-f641-4836-acf3-229265588d1d  0002-1407   \n",
       "3  0002-1433_7b0ec07f-bffa-467f-978a-45b1315107e5  0002-1433   \n",
       "4  0002-1434_7b0ec07f-bffa-467f-978a-45b1315107e5  0002-1434   \n",
       "\n",
       "           PRODUCTTYPENAME      PROPRIETARYNAME   NONPROPRIETARYNAME  \\\n",
       "0           HUMAN OTC DRUG      Sterile Diluent              diluent   \n",
       "1  HUMAN PRESCRIPTION DRUG               Amyvid     Florbetapir F 18   \n",
       "2  HUMAN PRESCRIPTION DRUG  Quinidine Gluconate  Quinidine Gluconate   \n",
       "3  HUMAN PRESCRIPTION DRUG            Trulicity          Dulaglutide   \n",
       "4  HUMAN PRESCRIPTION DRUG            Trulicity          Dulaglutide   \n",
       "\n",
       "        DOSAGEFORMNAME     ROUTENAME STARTMARKETINGDATE ENDMARKETINGDATE  \\\n",
       "0  INJECTION, SOLUTION  SUBCUTANEOUS         1987-07-10              NaT   \n",
       "1  INJECTION, SOLUTION   INTRAVENOUS         2012-06-01              NaT   \n",
       "2             SOLUTION   INTRAVENOUS         1950-07-12              NaT   \n",
       "3  INJECTION, SOLUTION  SUBCUTANEOUS         2014-09-18              NaT   \n",
       "4  INJECTION, SOLUTION  SUBCUTANEOUS         2014-09-18              NaT   \n",
       "\n",
       "  MARKETINGCATEGORYNAME APPLICATIONNUMBER            LABELERNAME  \\\n",
       "0                   NDA         NDA018781  Eli Lilly and Company   \n",
       "1                   NDA         NDA202008  Eli Lilly and Company   \n",
       "2                   NDA         NDA007529  Eli Lilly and Company   \n",
       "3                   BLA         BLA125469  Eli Lilly and Company   \n",
       "4                   BLA         BLA125469  Eli Lilly and Company   \n",
       "\n",
       "         SUBSTANCENAME ACTIVE_NUMERATOR_STRENGTH ACTIVE_INGRED_UNIT  \\\n",
       "0                WATER                         1              mL/mL   \n",
       "1     FLORBETAPIR F-18                        51             mCi/mL   \n",
       "2  QUINIDINE GLUCONATE                        80              mg/mL   \n",
       "3          DULAGLUTIDE                      0.75            mg/.5mL   \n",
       "4          DULAGLUTIDE                       1.5            mg/.5mL   \n",
       "\n",
       "                                       PHARM_CLASSES  \\\n",
       "0                                                NaN   \n",
       "1  Radioactive Diagnostic Agent [EPC],Positron Em...   \n",
       "2  Antiarrhythmic [EPC],Cytochrome P450 2D6 Inhib...   \n",
       "3  GLP-1 Receptor Agonist [EPC],Glucagon-Like Pep...   \n",
       "4  GLP-1 Receptor Agonist [EPC],Glucagon-Like Pep...   \n",
       "\n",
       "  LISTING_RECORD_CERTIFIED_THROUGH  \n",
       "0                       2019-12-31  \n",
       "1                       2019-12-31  \n",
       "2                       2019-12-31  \n",
       "3                       2019-12-31  \n",
       "4                       2019-12-31  "
      ]
     },
     "execution_count": 4,
     "metadata": {},
     "output_type": "execute_result"
    }
   ],
   "source": [
    "# drop useless column\n",
    "product = product.drop(columns=['DEASCHEDULE'])\n",
    "product = product.drop(columns=['NDC_EXCLUDE_FLAG'])\n",
    "product = product.drop(columns=['PROPRIETARYNAMESUFFIX'])\n",
    "product.head()"
   ]
  },
  {
   "cell_type": "markdown",
   "metadata": {},
   "source": [
    "We remove the duplicate in our data by the product NDC number and the numerator strength for drugs. The reason we do this is that there are drugs which have same product NDC number. We could consider these drugs are the same drug so we only need these drugs once. However, some drug have the same product NDC number but different numerator strength so we need to consider them as separate drugs. This is the reason we use product NDC number and the numerator strength to remove the duplicate."
   ]
  },
  {
   "cell_type": "code",
   "execution_count": 5,
   "metadata": {},
   "outputs": [
    {
     "data": {
      "text/html": [
       "<div>\n",
       "<style scoped>\n",
       "    .dataframe tbody tr th:only-of-type {\n",
       "        vertical-align: middle;\n",
       "    }\n",
       "\n",
       "    .dataframe tbody tr th {\n",
       "        vertical-align: top;\n",
       "    }\n",
       "\n",
       "    .dataframe thead th {\n",
       "        text-align: right;\n",
       "    }\n",
       "</style>\n",
       "<table border=\"1\" class=\"dataframe\">\n",
       "  <thead>\n",
       "    <tr style=\"text-align: right;\">\n",
       "      <th></th>\n",
       "      <th>PRODUCTID</th>\n",
       "      <th>PRODUCTNDC</th>\n",
       "      <th>PRODUCTTYPENAME</th>\n",
       "      <th>PROPRIETARYNAME</th>\n",
       "      <th>NONPROPRIETARYNAME</th>\n",
       "      <th>DOSAGEFORMNAME</th>\n",
       "      <th>ROUTENAME</th>\n",
       "      <th>STARTMARKETINGDATE</th>\n",
       "      <th>ENDMARKETINGDATE</th>\n",
       "      <th>MARKETINGCATEGORYNAME</th>\n",
       "      <th>APPLICATIONNUMBER</th>\n",
       "      <th>LABELERNAME</th>\n",
       "      <th>SUBSTANCENAME</th>\n",
       "      <th>ACTIVE_NUMERATOR_STRENGTH</th>\n",
       "      <th>ACTIVE_INGRED_UNIT</th>\n",
       "      <th>PHARM_CLASSES</th>\n",
       "      <th>LISTING_RECORD_CERTIFIED_THROUGH</th>\n",
       "    </tr>\n",
       "  </thead>\n",
       "  <tbody>\n",
       "    <tr>\n",
       "      <th>0</th>\n",
       "      <td>0002-0800_4bb5d1cb-0fa7-48c7-9f6d-8d45f9b91649</td>\n",
       "      <td>0002-0800</td>\n",
       "      <td>HUMAN OTC DRUG</td>\n",
       "      <td>Sterile Diluent</td>\n",
       "      <td>diluent</td>\n",
       "      <td>INJECTION, SOLUTION</td>\n",
       "      <td>SUBCUTANEOUS</td>\n",
       "      <td>1987-07-10</td>\n",
       "      <td>NaT</td>\n",
       "      <td>NDA</td>\n",
       "      <td>NDA018781</td>\n",
       "      <td>Eli Lilly and Company</td>\n",
       "      <td>WATER</td>\n",
       "      <td>1</td>\n",
       "      <td>mL/mL</td>\n",
       "      <td>NaN</td>\n",
       "      <td>2019-12-31</td>\n",
       "    </tr>\n",
       "    <tr>\n",
       "      <th>1</th>\n",
       "      <td>0002-1200_957ee1b5-dfa7-4e3f-96e1-6bed1ffc0abe</td>\n",
       "      <td>0002-1200</td>\n",
       "      <td>HUMAN PRESCRIPTION DRUG</td>\n",
       "      <td>Amyvid</td>\n",
       "      <td>Florbetapir F 18</td>\n",
       "      <td>INJECTION, SOLUTION</td>\n",
       "      <td>INTRAVENOUS</td>\n",
       "      <td>2012-06-01</td>\n",
       "      <td>NaT</td>\n",
       "      <td>NDA</td>\n",
       "      <td>NDA202008</td>\n",
       "      <td>Eli Lilly and Company</td>\n",
       "      <td>FLORBETAPIR F-18</td>\n",
       "      <td>51</td>\n",
       "      <td>mCi/mL</td>\n",
       "      <td>Radioactive Diagnostic Agent [EPC],Positron Em...</td>\n",
       "      <td>2019-12-31</td>\n",
       "    </tr>\n",
       "    <tr>\n",
       "      <th>2</th>\n",
       "      <td>0002-1407_14757f9d-f641-4836-acf3-229265588d1d</td>\n",
       "      <td>0002-1407</td>\n",
       "      <td>HUMAN PRESCRIPTION DRUG</td>\n",
       "      <td>Quinidine Gluconate</td>\n",
       "      <td>Quinidine Gluconate</td>\n",
       "      <td>SOLUTION</td>\n",
       "      <td>INTRAVENOUS</td>\n",
       "      <td>1950-07-12</td>\n",
       "      <td>NaT</td>\n",
       "      <td>NDA</td>\n",
       "      <td>NDA007529</td>\n",
       "      <td>Eli Lilly and Company</td>\n",
       "      <td>QUINIDINE GLUCONATE</td>\n",
       "      <td>80</td>\n",
       "      <td>mg/mL</td>\n",
       "      <td>Antiarrhythmic [EPC],Cytochrome P450 2D6 Inhib...</td>\n",
       "      <td>2019-12-31</td>\n",
       "    </tr>\n",
       "    <tr>\n",
       "      <th>3</th>\n",
       "      <td>0002-1433_7b0ec07f-bffa-467f-978a-45b1315107e5</td>\n",
       "      <td>0002-1433</td>\n",
       "      <td>HUMAN PRESCRIPTION DRUG</td>\n",
       "      <td>Trulicity</td>\n",
       "      <td>Dulaglutide</td>\n",
       "      <td>INJECTION, SOLUTION</td>\n",
       "      <td>SUBCUTANEOUS</td>\n",
       "      <td>2014-09-18</td>\n",
       "      <td>NaT</td>\n",
       "      <td>BLA</td>\n",
       "      <td>BLA125469</td>\n",
       "      <td>Eli Lilly and Company</td>\n",
       "      <td>DULAGLUTIDE</td>\n",
       "      <td>0.75</td>\n",
       "      <td>mg/.5mL</td>\n",
       "      <td>GLP-1 Receptor Agonist [EPC],Glucagon-Like Pep...</td>\n",
       "      <td>2019-12-31</td>\n",
       "    </tr>\n",
       "    <tr>\n",
       "      <th>4</th>\n",
       "      <td>0002-1434_7b0ec07f-bffa-467f-978a-45b1315107e5</td>\n",
       "      <td>0002-1434</td>\n",
       "      <td>HUMAN PRESCRIPTION DRUG</td>\n",
       "      <td>Trulicity</td>\n",
       "      <td>Dulaglutide</td>\n",
       "      <td>INJECTION, SOLUTION</td>\n",
       "      <td>SUBCUTANEOUS</td>\n",
       "      <td>2014-09-18</td>\n",
       "      <td>NaT</td>\n",
       "      <td>BLA</td>\n",
       "      <td>BLA125469</td>\n",
       "      <td>Eli Lilly and Company</td>\n",
       "      <td>DULAGLUTIDE</td>\n",
       "      <td>1.5</td>\n",
       "      <td>mg/.5mL</td>\n",
       "      <td>GLP-1 Receptor Agonist [EPC],Glucagon-Like Pep...</td>\n",
       "      <td>2019-12-31</td>\n",
       "    </tr>\n",
       "  </tbody>\n",
       "</table>\n",
       "</div>"
      ],
      "text/plain": [
       "                                        PRODUCTID PRODUCTNDC  \\\n",
       "0  0002-0800_4bb5d1cb-0fa7-48c7-9f6d-8d45f9b91649  0002-0800   \n",
       "1  0002-1200_957ee1b5-dfa7-4e3f-96e1-6bed1ffc0abe  0002-1200   \n",
       "2  0002-1407_14757f9d-f641-4836-acf3-229265588d1d  0002-1407   \n",
       "3  0002-1433_7b0ec07f-bffa-467f-978a-45b1315107e5  0002-1433   \n",
       "4  0002-1434_7b0ec07f-bffa-467f-978a-45b1315107e5  0002-1434   \n",
       "\n",
       "           PRODUCTTYPENAME      PROPRIETARYNAME   NONPROPRIETARYNAME  \\\n",
       "0           HUMAN OTC DRUG      Sterile Diluent              diluent   \n",
       "1  HUMAN PRESCRIPTION DRUG               Amyvid     Florbetapir F 18   \n",
       "2  HUMAN PRESCRIPTION DRUG  Quinidine Gluconate  Quinidine Gluconate   \n",
       "3  HUMAN PRESCRIPTION DRUG            Trulicity          Dulaglutide   \n",
       "4  HUMAN PRESCRIPTION DRUG            Trulicity          Dulaglutide   \n",
       "\n",
       "        DOSAGEFORMNAME     ROUTENAME STARTMARKETINGDATE ENDMARKETINGDATE  \\\n",
       "0  INJECTION, SOLUTION  SUBCUTANEOUS         1987-07-10              NaT   \n",
       "1  INJECTION, SOLUTION   INTRAVENOUS         2012-06-01              NaT   \n",
       "2             SOLUTION   INTRAVENOUS         1950-07-12              NaT   \n",
       "3  INJECTION, SOLUTION  SUBCUTANEOUS         2014-09-18              NaT   \n",
       "4  INJECTION, SOLUTION  SUBCUTANEOUS         2014-09-18              NaT   \n",
       "\n",
       "  MARKETINGCATEGORYNAME APPLICATIONNUMBER            LABELERNAME  \\\n",
       "0                   NDA         NDA018781  Eli Lilly and Company   \n",
       "1                   NDA         NDA202008  Eli Lilly and Company   \n",
       "2                   NDA         NDA007529  Eli Lilly and Company   \n",
       "3                   BLA         BLA125469  Eli Lilly and Company   \n",
       "4                   BLA         BLA125469  Eli Lilly and Company   \n",
       "\n",
       "         SUBSTANCENAME ACTIVE_NUMERATOR_STRENGTH ACTIVE_INGRED_UNIT  \\\n",
       "0                WATER                         1              mL/mL   \n",
       "1     FLORBETAPIR F-18                        51             mCi/mL   \n",
       "2  QUINIDINE GLUCONATE                        80              mg/mL   \n",
       "3          DULAGLUTIDE                      0.75            mg/.5mL   \n",
       "4          DULAGLUTIDE                       1.5            mg/.5mL   \n",
       "\n",
       "                                       PHARM_CLASSES  \\\n",
       "0                                                NaN   \n",
       "1  Radioactive Diagnostic Agent [EPC],Positron Em...   \n",
       "2  Antiarrhythmic [EPC],Cytochrome P450 2D6 Inhib...   \n",
       "3  GLP-1 Receptor Agonist [EPC],Glucagon-Like Pep...   \n",
       "4  GLP-1 Receptor Agonist [EPC],Glucagon-Like Pep...   \n",
       "\n",
       "  LISTING_RECORD_CERTIFIED_THROUGH  \n",
       "0                       2019-12-31  \n",
       "1                       2019-12-31  \n",
       "2                       2019-12-31  \n",
       "3                       2019-12-31  \n",
       "4                       2019-12-31  "
      ]
     },
     "execution_count": 5,
     "metadata": {},
     "output_type": "execute_result"
    }
   ],
   "source": [
    "product = product.drop_duplicates(['PRODUCTNDC','ACTIVE_NUMERATOR_STRENGTH'])\n",
    "product.head()"
   ]
  },
  {
   "cell_type": "markdown",
   "metadata": {},
   "source": [
    "The missing values are major in DEASCHEDULE, PROPRIETARYNAMESUFFIX, and ENDMARKETINGDATE attributes. The way we are dealing with missing values is that we remove the columns DEASCHEDULE and PROPRIETARYNAMESUFFIX. The reason is that these two columns could not answer our research questions. For the ENDMARKETINGDATE, we use this as a guide to show that the drugs which end date is missing is more reliable because missing value means the drugs is not going to leave the market soon. Thus, the drugs have better positive effect to people. The rest of the missing value we keep them in the dataset. The reason is that there are only a few missing values so it does not affect the whole visualizations of data."
   ]
  },
  {
   "cell_type": "code",
   "execution_count": 10,
   "metadata": {},
   "outputs": [
    {
     "data": {
      "text/html": [
       "<div>\n",
       "<style scoped>\n",
       "    .dataframe tbody tr th:only-of-type {\n",
       "        vertical-align: middle;\n",
       "    }\n",
       "\n",
       "    .dataframe tbody tr th {\n",
       "        vertical-align: top;\n",
       "    }\n",
       "\n",
       "    .dataframe thead th {\n",
       "        text-align: right;\n",
       "    }\n",
       "</style>\n",
       "<table border=\"1\" class=\"dataframe\">\n",
       "  <thead>\n",
       "    <tr style=\"text-align: right;\">\n",
       "      <th></th>\n",
       "      <th>PRODUCTID</th>\n",
       "      <th>PRODUCTNDC</th>\n",
       "      <th>PRODUCTTYPENAME</th>\n",
       "      <th>PROPRIETARYNAME</th>\n",
       "      <th>NONPROPRIETARYNAME</th>\n",
       "      <th>DOSAGEFORMNAME</th>\n",
       "      <th>ROUTENAME</th>\n",
       "      <th>STARTMARKETINGDATE</th>\n",
       "      <th>ENDMARKETINGDATE</th>\n",
       "      <th>MARKETINGCATEGORYNAME</th>\n",
       "      <th>APPLICATIONNUMBER</th>\n",
       "      <th>LABELERNAME</th>\n",
       "      <th>SUBSTANCENAME</th>\n",
       "      <th>ACTIVE_NUMERATOR_STRENGTH</th>\n",
       "      <th>ACTIVE_INGRED_UNIT</th>\n",
       "      <th>PHARM_CLASSES</th>\n",
       "      <th>LISTING_RECORD_CERTIFIED_THROUGH</th>\n",
       "    </tr>\n",
       "  </thead>\n",
       "  <tbody>\n",
       "    <tr>\n",
       "      <th>count</th>\n",
       "      <td>122188</td>\n",
       "      <td>122188</td>\n",
       "      <td>122188</td>\n",
       "      <td>122184</td>\n",
       "      <td>122182</td>\n",
       "      <td>122188</td>\n",
       "      <td>120171</td>\n",
       "      <td>122183</td>\n",
       "      <td>3537</td>\n",
       "      <td>122188</td>\n",
       "      <td>104618</td>\n",
       "      <td>122188</td>\n",
       "      <td>119694</td>\n",
       "      <td>119693</td>\n",
       "      <td>119694</td>\n",
       "      <td>52593</td>\n",
       "      <td>118649</td>\n",
       "    </tr>\n",
       "    <tr>\n",
       "      <th>unique</th>\n",
       "      <td>122188</td>\n",
       "      <td>122085</td>\n",
       "      <td>7</td>\n",
       "      <td>45543</td>\n",
       "      <td>22202</td>\n",
       "      <td>136</td>\n",
       "      <td>203</td>\n",
       "      <td>7661</td>\n",
       "      <td>743</td>\n",
       "      <td>11</td>\n",
       "      <td>10910</td>\n",
       "      <td>9180</td>\n",
       "      <td>12447</td>\n",
       "      <td>12337</td>\n",
       "      <td>3824</td>\n",
       "      <td>1772</td>\n",
       "      <td>4</td>\n",
       "    </tr>\n",
       "    <tr>\n",
       "      <th>top</th>\n",
       "      <td>67046-042_8ab4fb43-045f-4104-bd62-55f8d3bae95a</td>\n",
       "      <td>65121-001</td>\n",
       "      <td>HUMAN OTC DRUG</td>\n",
       "      <td>Ibuprofen</td>\n",
       "      <td>Ibuprofen</td>\n",
       "      <td>TABLET</td>\n",
       "      <td>ORAL</td>\n",
       "      <td>1972-08-29 00:00:00</td>\n",
       "      <td>2019-12-31 00:00:00</td>\n",
       "      <td>ANDA</td>\n",
       "      <td>part352</td>\n",
       "      <td>Nelco Laboratories, Inc.</td>\n",
       "      <td>ALCOHOL</td>\n",
       "      <td>10</td>\n",
       "      <td>mg/1</td>\n",
       "      <td>Non-Standardized Pollen Allergenic Extract [EP...</td>\n",
       "      <td>2019-12-31 00:00:00</td>\n",
       "    </tr>\n",
       "    <tr>\n",
       "      <th>freq</th>\n",
       "      <td>1</td>\n",
       "      <td>5</td>\n",
       "      <td>63544</td>\n",
       "      <td>637</td>\n",
       "      <td>1047</td>\n",
       "      <td>19775</td>\n",
       "      <td>64552</td>\n",
       "      <td>2428</td>\n",
       "      <td>273</td>\n",
       "      <td>42970</td>\n",
       "      <td>11707</td>\n",
       "      <td>2362</td>\n",
       "      <td>2795</td>\n",
       "      <td>5472</td>\n",
       "      <td>40740</td>\n",
       "      <td>1930</td>\n",
       "      <td>81198</td>\n",
       "    </tr>\n",
       "    <tr>\n",
       "      <th>first</th>\n",
       "      <td>NaN</td>\n",
       "      <td>NaN</td>\n",
       "      <td>NaN</td>\n",
       "      <td>NaN</td>\n",
       "      <td>NaN</td>\n",
       "      <td>NaN</td>\n",
       "      <td>NaN</td>\n",
       "      <td>1900-01-01 00:00:00</td>\n",
       "      <td>2019-03-17 00:00:00</td>\n",
       "      <td>NaN</td>\n",
       "      <td>NaN</td>\n",
       "      <td>NaN</td>\n",
       "      <td>NaN</td>\n",
       "      <td>NaN</td>\n",
       "      <td>NaN</td>\n",
       "      <td>NaN</td>\n",
       "      <td>2017-12-31 00:00:00</td>\n",
       "    </tr>\n",
       "    <tr>\n",
       "      <th>last</th>\n",
       "      <td>NaN</td>\n",
       "      <td>NaN</td>\n",
       "      <td>NaN</td>\n",
       "      <td>NaN</td>\n",
       "      <td>NaN</td>\n",
       "      <td>NaN</td>\n",
       "      <td>NaN</td>\n",
       "      <td>2019-01-18 00:00:00</td>\n",
       "      <td>2038-01-31 00:00:00</td>\n",
       "      <td>NaN</td>\n",
       "      <td>NaN</td>\n",
       "      <td>NaN</td>\n",
       "      <td>NaN</td>\n",
       "      <td>NaN</td>\n",
       "      <td>NaN</td>\n",
       "      <td>NaN</td>\n",
       "      <td>2020-12-31 00:00:00</td>\n",
       "    </tr>\n",
       "  </tbody>\n",
       "</table>\n",
       "</div>"
      ],
      "text/plain": [
       "                                             PRODUCTID PRODUCTNDC  \\\n",
       "count                                           122188     122188   \n",
       "unique                                          122188     122085   \n",
       "top     67046-042_8ab4fb43-045f-4104-bd62-55f8d3bae95a  65121-001   \n",
       "freq                                                 1          5   \n",
       "first                                              NaN        NaN   \n",
       "last                                               NaN        NaN   \n",
       "\n",
       "       PRODUCTTYPENAME PROPRIETARYNAME NONPROPRIETARYNAME DOSAGEFORMNAME  \\\n",
       "count           122188          122184             122182         122188   \n",
       "unique               7           45543              22202            136   \n",
       "top     HUMAN OTC DRUG       Ibuprofen          Ibuprofen         TABLET   \n",
       "freq             63544             637               1047          19775   \n",
       "first              NaN             NaN                NaN            NaN   \n",
       "last               NaN             NaN                NaN            NaN   \n",
       "\n",
       "       ROUTENAME   STARTMARKETINGDATE     ENDMARKETINGDATE  \\\n",
       "count     120171               122183                 3537   \n",
       "unique       203                 7661                  743   \n",
       "top         ORAL  1972-08-29 00:00:00  2019-12-31 00:00:00   \n",
       "freq       64552                 2428                  273   \n",
       "first        NaN  1900-01-01 00:00:00  2019-03-17 00:00:00   \n",
       "last         NaN  2019-01-18 00:00:00  2038-01-31 00:00:00   \n",
       "\n",
       "       MARKETINGCATEGORYNAME APPLICATIONNUMBER               LABELERNAME  \\\n",
       "count                 122188            104618                    122188   \n",
       "unique                    11             10910                      9180   \n",
       "top                     ANDA           part352  Nelco Laboratories, Inc.   \n",
       "freq                   42970             11707                      2362   \n",
       "first                    NaN               NaN                       NaN   \n",
       "last                     NaN               NaN                       NaN   \n",
       "\n",
       "       SUBSTANCENAME ACTIVE_NUMERATOR_STRENGTH ACTIVE_INGRED_UNIT  \\\n",
       "count         119694                    119693             119694   \n",
       "unique         12447                     12337               3824   \n",
       "top          ALCOHOL                        10               mg/1   \n",
       "freq            2795                      5472              40740   \n",
       "first            NaN                       NaN                NaN   \n",
       "last             NaN                       NaN                NaN   \n",
       "\n",
       "                                            PHARM_CLASSES  \\\n",
       "count                                               52593   \n",
       "unique                                               1772   \n",
       "top     Non-Standardized Pollen Allergenic Extract [EP...   \n",
       "freq                                                 1930   \n",
       "first                                                 NaN   \n",
       "last                                                  NaN   \n",
       "\n",
       "       LISTING_RECORD_CERTIFIED_THROUGH  \n",
       "count                            118649  \n",
       "unique                                4  \n",
       "top                 2019-12-31 00:00:00  \n",
       "freq                              81198  \n",
       "first               2017-12-31 00:00:00  \n",
       "last                2020-12-31 00:00:00  "
      ]
     },
     "execution_count": 10,
     "metadata": {},
     "output_type": "execute_result"
    }
   ],
   "source": [
    "product.describe(include = 'all')"
   ]
  },
  {
   "cell_type": "markdown",
   "metadata": {},
   "source": [
    "From the descriptive statistics we find that we do not actually have a nemerical column.  Is Active_numerator_strength nemerical?  No, since they have different units, the numerical comparison can be meaningless.  From the summary we can find which is the most showed value in each column, also we can find its frequency.  Also, the count and how many unique rows for each column is shown, we can easily know which column has duplicates and how many duplicates.  The max and min value (though not numerical) are displayed also.  For example, PRODUCTNDC has 122188 values in total and 122085 unique values, this mean there's about 100 duplicated values.  Why didn't we remove all these values?  Because some of them may have different curative effect, we can consider them as different drugs, so ignore them.  The top shown NDC is 65121-001, it shows up 5 times, first and last since pandas doesn't know how to compare such values, there is none."
   ]
  },
  {
   "cell_type": "markdown",
   "metadata": {},
   "source": [
    "## Visualization"
   ]
  },
  {
   "cell_type": "markdown",
   "metadata": {},
   "source": [
    "This visualization shows that between 2010-2020 is the peak of drugs releasing, most drugs are invented and applied to used in such time. This visualzation can answer part of the second real world question above. The reason is that this can shows that most of the drugs publish to the market between 2010 to 2020. So it can prove that between 2010 to 2020 the market for drugs is wonderful. Also, from 1900 to 1960, although there is a peak around 1940, compared to the year after 1960, we can see drugs does not developed much. From our point of view, the major reason should be the development of computer because after 1960 computer become more useful to medical industry. This visualization helps us to understand the distribution of data."
   ]
  },
  {
   "cell_type": "code",
   "execution_count": 11,
   "metadata": {},
   "outputs": [
    {
     "data": {
      "text/plain": [
       "<matplotlib.axes._subplots.AxesSubplot at 0x7fb109b045f8>"
      ]
     },
     "execution_count": 11,
     "metadata": {},
     "output_type": "execute_result"
    },
    {
     "data": {
      "image/png": "[encoded data removed]",
      "text/plain": [
       "<Figure size 432x288 with 1 Axes>"
      ]
     },
     "metadata": {
      "needs_background": "light"
     },
     "output_type": "display_data"
    }
   ],
   "source": [
    "starting_year = product['STARTMARKETINGDATE'].dt.year\n",
    "product.loc[: , 'starting_year'] = starting_year\n",
    "sns.kdeplot(product['starting_year' ].dropna())"
   ]
  },
  {
   "cell_type": "markdown",
   "metadata": {},
   "source": [
    "This is the number of products for each type of drug. This shows that OTC drug have the most number in the market. This is the reason we want to asked the third real-world question: to analyze the type of drug which have the most number in the public."
   ]
  },
  {
   "cell_type": "code",
   "execution_count": 12,
   "metadata": {},
   "outputs": [
    {
     "data": {
      "text/plain": [
       "PRODUCTTYPENAME\n",
       "CELLULAR THERAPY                   7\n",
       "HUMAN OTC DRUG                 63544\n",
       "HUMAN PRESCRIPTION DRUG        55528\n",
       "NON-STANDARDIZED ALLERGENIC     2543\n",
       "PLASMA DERIVATIVE                313\n",
       "STANDARDIZED ALLERGENIC          144\n",
       "VACCINE                          109\n",
       "dtype: int64"
      ]
     },
     "execution_count": 12,
     "metadata": {},
     "output_type": "execute_result"
    }
   ],
   "source": [
    "product.groupby('PRODUCTTYPENAME').size()"
   ]
  },
  {
   "cell_type": "markdown",
   "metadata": {},
   "source": [
    "This is dosage form followed by mean year of releasing. We could use this to find out which form of drug is the newest and which is the oldest. This can answer our forth real-world question."
   ]
  },
  {
   "cell_type": "code",
   "execution_count": 13,
   "metadata": {},
   "outputs": [
    {
     "data": {
      "text/html": [
       "<div>\n",
       "<style scoped>\n",
       "    .dataframe tbody tr th:only-of-type {\n",
       "        vertical-align: middle;\n",
       "    }\n",
       "\n",
       "    .dataframe tbody tr th {\n",
       "        vertical-align: top;\n",
       "    }\n",
       "\n",
       "    .dataframe thead th {\n",
       "        text-align: right;\n",
       "    }\n",
       "</style>\n",
       "<table border=\"1\" class=\"dataframe\">\n",
       "  <thead>\n",
       "    <tr style=\"text-align: right;\">\n",
       "      <th></th>\n",
       "      <th>starting_year</th>\n",
       "    </tr>\n",
       "    <tr>\n",
       "      <th>DOSAGEFORMNAME</th>\n",
       "      <th></th>\n",
       "    </tr>\n",
       "  </thead>\n",
       "  <tbody>\n",
       "    <tr>\n",
       "      <th>AEROSOL</th>\n",
       "      <td>2012.000000</td>\n",
       "    </tr>\n",
       "    <tr>\n",
       "      <th>AEROSOL, FOAM</th>\n",
       "      <td>2009.193548</td>\n",
       "    </tr>\n",
       "    <tr>\n",
       "      <th>AEROSOL, METERED</th>\n",
       "      <td>2011.202532</td>\n",
       "    </tr>\n",
       "    <tr>\n",
       "      <th>AEROSOL, POWDER</th>\n",
       "      <td>2010.157895</td>\n",
       "    </tr>\n",
       "    <tr>\n",
       "      <th>AEROSOL, SPRAY</th>\n",
       "      <td>2014.370526</td>\n",
       "    </tr>\n",
       "  </tbody>\n",
       "</table>\n",
       "</div>"
      ],
      "text/plain": [
       "                  starting_year\n",
       "DOSAGEFORMNAME                 \n",
       "AEROSOL             2012.000000\n",
       "AEROSOL, FOAM       2009.193548\n",
       "AEROSOL, METERED    2011.202532\n",
       "AEROSOL, POWDER     2010.157895\n",
       "AEROSOL, SPRAY      2014.370526"
      ]
     },
     "execution_count": 13,
     "metadata": {},
     "output_type": "execute_result"
    }
   ],
   "source": [
    "mean_start_year = product.groupby('DOSAGEFORMNAME').mean()\n",
    "mean_start_year.head()"
   ]
  },
  {
   "cell_type": "markdown",
   "metadata": {},
   "source": [
    "This is the newest dosage form"
   ]
  },
  {
   "cell_type": "code",
   "execution_count": 14,
   "metadata": {},
   "outputs": [
    {
     "data": {
      "text/plain": [
       "'INJECTION, LIPID COMPLEX'"
      ]
     },
     "execution_count": 14,
     "metadata": {},
     "output_type": "execute_result"
    }
   ],
   "source": [
    "mean_start_year['starting_year'].idxmax()"
   ]
  },
  {
   "cell_type": "markdown",
   "metadata": {},
   "source": [
    "This is the newest dosage form"
   ]
  },
  {
   "cell_type": "code",
   "execution_count": 15,
   "metadata": {},
   "outputs": [
    {
     "data": {
      "text/plain": [
       "'INJECTION, SOLUTION'"
      ]
     },
     "execution_count": 15,
     "metadata": {},
     "output_type": "execute_result"
    }
   ],
   "source": [
    "mean_start_year['starting_year'].idxmin()"
   ]
  },
  {
   "cell_type": "markdown",
   "metadata": {},
   "source": [
    "We also plot releasing month to see in which month the most drugs are released. This could also answer the forth real-world question. The result shows that January is the month with most drugs released and November is the least. This visualization also helps us to understand the distribution of data."
   ]
  },
  {
   "cell_type": "code",
   "execution_count": 16,
   "metadata": {},
   "outputs": [
    {
     "data": {
      "text/plain": [
       "<matplotlib.axes._subplots.AxesSubplot at 0x7fb109a219e8>"
      ]
     },
     "execution_count": 16,
     "metadata": {},
     "output_type": "execute_result"
    },
    {
     "data": {
      "image/png": "[encoded data removed]",
      "text/plain": [
       "<Figure size 432x288 with 1 Axes>"
      ]
     },
     "metadata": {
      "needs_background": "light"
     },
     "output_type": "display_data"
    }
   ],
   "source": [
    "starting_month = product['STARTMARKETINGDATE'].dt.month\n",
    "sns.kdeplot(starting_month.dropna())"
   ]
  },
  {
   "cell_type": "code",
   "execution_count": 17,
   "metadata": {},
   "outputs": [
    {
     "data": {
      "text/plain": [
       "1.0"
      ]
     },
     "execution_count": 17,
     "metadata": {},
     "output_type": "execute_result"
    }
   ],
   "source": [
    "starting_month.value_counts().idxmax()"
   ]
  },
  {
   "cell_type": "code",
   "execution_count": 18,
   "metadata": {},
   "outputs": [
    {
     "data": {
      "text/plain": [
       "11.0"
      ]
     },
     "execution_count": 18,
     "metadata": {},
     "output_type": "execute_result"
    }
   ],
   "source": [
    "starting_month.value_counts().idxmin()"
   ]
  },
  {
   "cell_type": "markdown",
   "metadata": {},
   "source": [
    "This part we created a new df named dosage_frame containg cleaned_dosage. It's also a part of data cleaning, then we created boxplot year vs dosage. This could answer the forth real-world question."
   ]
  },
  {
   "cell_type": "code",
   "execution_count": 19,
   "metadata": {},
   "outputs": [
    {
     "data": {
      "text/plain": [
       "0    TABLET\n",
       "dtype: object"
      ]
     },
     "execution_count": 19,
     "metadata": {},
     "output_type": "execute_result"
    }
   ],
   "source": [
    "dosage_format = product['DOSAGEFORMNAME'].str.split(',')\n",
    "dosage_format_lst = [i[0] for i in dosage_format]\n",
    "product.loc[: , 'dosage_form'] = dosage_format_lst\n",
    "dosage = product.groupby(['dosage_form']).size().to_frame()\n",
    "# Only with those types more than 2000\n",
    "dosage = dosage.loc[dosage[0] > 2000]\n",
    "#dosage\n",
    "dosage.idxmax()\n",
    "# So tablet is the most used form of drugs "
   ]
  },
  {
   "cell_type": "code",
   "execution_count": 20,
   "metadata": {},
   "outputs": [
    {
     "data": {
      "text/html": [
       "<div>\n",
       "<style scoped>\n",
       "    .dataframe tbody tr th:only-of-type {\n",
       "        vertical-align: middle;\n",
       "    }\n",
       "\n",
       "    .dataframe tbody tr th {\n",
       "        vertical-align: top;\n",
       "    }\n",
       "\n",
       "    .dataframe thead th {\n",
       "        text-align: right;\n",
       "    }\n",
       "</style>\n",
       "<table border=\"1\" class=\"dataframe\">\n",
       "  <thead>\n",
       "    <tr style=\"text-align: right;\">\n",
       "      <th></th>\n",
       "      <th>PRODUCTID</th>\n",
       "      <th>PRODUCTNDC</th>\n",
       "      <th>PRODUCTTYPENAME</th>\n",
       "      <th>PROPRIETARYNAME</th>\n",
       "      <th>NONPROPRIETARYNAME</th>\n",
       "      <th>DOSAGEFORMNAME</th>\n",
       "      <th>ROUTENAME</th>\n",
       "      <th>STARTMARKETINGDATE</th>\n",
       "      <th>ENDMARKETINGDATE</th>\n",
       "      <th>MARKETINGCATEGORYNAME</th>\n",
       "      <th>APPLICATIONNUMBER</th>\n",
       "      <th>LABELERNAME</th>\n",
       "      <th>SUBSTANCENAME</th>\n",
       "      <th>ACTIVE_NUMERATOR_STRENGTH</th>\n",
       "      <th>ACTIVE_INGRED_UNIT</th>\n",
       "      <th>PHARM_CLASSES</th>\n",
       "      <th>LISTING_RECORD_CERTIFIED_THROUGH</th>\n",
       "      <th>starting_year</th>\n",
       "      <th>dosage_form</th>\n",
       "      <th>dosage</th>\n",
       "    </tr>\n",
       "  </thead>\n",
       "  <tbody>\n",
       "    <tr>\n",
       "      <th>0</th>\n",
       "      <td>0002-0800_4bb5d1cb-0fa7-48c7-9f6d-8d45f9b91649</td>\n",
       "      <td>0002-0800</td>\n",
       "      <td>HUMAN OTC DRUG</td>\n",
       "      <td>Sterile Diluent</td>\n",
       "      <td>diluent</td>\n",
       "      <td>INJECTION, SOLUTION</td>\n",
       "      <td>SUBCUTANEOUS</td>\n",
       "      <td>1987-07-10</td>\n",
       "      <td>NaT</td>\n",
       "      <td>NDA</td>\n",
       "      <td>NDA018781</td>\n",
       "      <td>Eli Lilly and Company</td>\n",
       "      <td>WATER</td>\n",
       "      <td>1</td>\n",
       "      <td>mL/mL</td>\n",
       "      <td>NaN</td>\n",
       "      <td>2019-12-31</td>\n",
       "      <td>1987.0</td>\n",
       "      <td>INJECTION</td>\n",
       "      <td>INJECTION</td>\n",
       "    </tr>\n",
       "    <tr>\n",
       "      <th>1</th>\n",
       "      <td>0002-1200_957ee1b5-dfa7-4e3f-96e1-6bed1ffc0abe</td>\n",
       "      <td>0002-1200</td>\n",
       "      <td>HUMAN PRESCRIPTION DRUG</td>\n",
       "      <td>Amyvid</td>\n",
       "      <td>Florbetapir F 18</td>\n",
       "      <td>INJECTION, SOLUTION</td>\n",
       "      <td>INTRAVENOUS</td>\n",
       "      <td>2012-06-01</td>\n",
       "      <td>NaT</td>\n",
       "      <td>NDA</td>\n",
       "      <td>NDA202008</td>\n",
       "      <td>Eli Lilly and Company</td>\n",
       "      <td>FLORBETAPIR F-18</td>\n",
       "      <td>51</td>\n",
       "      <td>mCi/mL</td>\n",
       "      <td>Radioactive Diagnostic Agent [EPC],Positron Em...</td>\n",
       "      <td>2019-12-31</td>\n",
       "      <td>2012.0</td>\n",
       "      <td>INJECTION</td>\n",
       "      <td>INJECTION</td>\n",
       "    </tr>\n",
       "    <tr>\n",
       "      <th>2</th>\n",
       "      <td>0002-1407_14757f9d-f641-4836-acf3-229265588d1d</td>\n",
       "      <td>0002-1407</td>\n",
       "      <td>HUMAN PRESCRIPTION DRUG</td>\n",
       "      <td>Quinidine Gluconate</td>\n",
       "      <td>Quinidine Gluconate</td>\n",
       "      <td>SOLUTION</td>\n",
       "      <td>INTRAVENOUS</td>\n",
       "      <td>1950-07-12</td>\n",
       "      <td>NaT</td>\n",
       "      <td>NDA</td>\n",
       "      <td>NDA007529</td>\n",
       "      <td>Eli Lilly and Company</td>\n",
       "      <td>QUINIDINE GLUCONATE</td>\n",
       "      <td>80</td>\n",
       "      <td>mg/mL</td>\n",
       "      <td>Antiarrhythmic [EPC],Cytochrome P450 2D6 Inhib...</td>\n",
       "      <td>2019-12-31</td>\n",
       "      <td>1950.0</td>\n",
       "      <td>SOLUTION</td>\n",
       "      <td>SOLUTION</td>\n",
       "    </tr>\n",
       "    <tr>\n",
       "      <th>3</th>\n",
       "      <td>0002-1433_7b0ec07f-bffa-467f-978a-45b1315107e5</td>\n",
       "      <td>0002-1433</td>\n",
       "      <td>HUMAN PRESCRIPTION DRUG</td>\n",
       "      <td>Trulicity</td>\n",
       "      <td>Dulaglutide</td>\n",
       "      <td>INJECTION, SOLUTION</td>\n",
       "      <td>SUBCUTANEOUS</td>\n",
       "      <td>2014-09-18</td>\n",
       "      <td>NaT</td>\n",
       "      <td>BLA</td>\n",
       "      <td>BLA125469</td>\n",
       "      <td>Eli Lilly and Company</td>\n",
       "      <td>DULAGLUTIDE</td>\n",
       "      <td>0.75</td>\n",
       "      <td>mg/.5mL</td>\n",
       "      <td>GLP-1 Receptor Agonist [EPC],Glucagon-Like Pep...</td>\n",
       "      <td>2019-12-31</td>\n",
       "      <td>2014.0</td>\n",
       "      <td>INJECTION</td>\n",
       "      <td>INJECTION</td>\n",
       "    </tr>\n",
       "    <tr>\n",
       "      <th>4</th>\n",
       "      <td>0002-1434_7b0ec07f-bffa-467f-978a-45b1315107e5</td>\n",
       "      <td>0002-1434</td>\n",
       "      <td>HUMAN PRESCRIPTION DRUG</td>\n",
       "      <td>Trulicity</td>\n",
       "      <td>Dulaglutide</td>\n",
       "      <td>INJECTION, SOLUTION</td>\n",
       "      <td>SUBCUTANEOUS</td>\n",
       "      <td>2014-09-18</td>\n",
       "      <td>NaT</td>\n",
       "      <td>BLA</td>\n",
       "      <td>BLA125469</td>\n",
       "      <td>Eli Lilly and Company</td>\n",
       "      <td>DULAGLUTIDE</td>\n",
       "      <td>1.5</td>\n",
       "      <td>mg/.5mL</td>\n",
       "      <td>GLP-1 Receptor Agonist [EPC],Glucagon-Like Pep...</td>\n",
       "      <td>2019-12-31</td>\n",
       "      <td>2014.0</td>\n",
       "      <td>INJECTION</td>\n",
       "      <td>INJECTION</td>\n",
       "    </tr>\n",
       "  </tbody>\n",
       "</table>\n",
       "</div>"
      ],
      "text/plain": [
       "                                        PRODUCTID PRODUCTNDC  \\\n",
       "0  0002-0800_4bb5d1cb-0fa7-48c7-9f6d-8d45f9b91649  0002-0800   \n",
       "1  0002-1200_957ee1b5-dfa7-4e3f-96e1-6bed1ffc0abe  0002-1200   \n",
       "2  0002-1407_14757f9d-f641-4836-acf3-229265588d1d  0002-1407   \n",
       "3  0002-1433_7b0ec07f-bffa-467f-978a-45b1315107e5  0002-1433   \n",
       "4  0002-1434_7b0ec07f-bffa-467f-978a-45b1315107e5  0002-1434   \n",
       "\n",
       "           PRODUCTTYPENAME      PROPRIETARYNAME   NONPROPRIETARYNAME  \\\n",
       "0           HUMAN OTC DRUG      Sterile Diluent              diluent   \n",
       "1  HUMAN PRESCRIPTION DRUG               Amyvid     Florbetapir F 18   \n",
       "2  HUMAN PRESCRIPTION DRUG  Quinidine Gluconate  Quinidine Gluconate   \n",
       "3  HUMAN PRESCRIPTION DRUG            Trulicity          Dulaglutide   \n",
       "4  HUMAN PRESCRIPTION DRUG            Trulicity          Dulaglutide   \n",
       "\n",
       "        DOSAGEFORMNAME     ROUTENAME STARTMARKETINGDATE ENDMARKETINGDATE  \\\n",
       "0  INJECTION, SOLUTION  SUBCUTANEOUS         1987-07-10              NaT   \n",
       "1  INJECTION, SOLUTION   INTRAVENOUS         2012-06-01              NaT   \n",
       "2             SOLUTION   INTRAVENOUS         1950-07-12              NaT   \n",
       "3  INJECTION, SOLUTION  SUBCUTANEOUS         2014-09-18              NaT   \n",
       "4  INJECTION, SOLUTION  SUBCUTANEOUS         2014-09-18              NaT   \n",
       "\n",
       "  MARKETINGCATEGORYNAME APPLICATIONNUMBER            LABELERNAME  \\\n",
       "0                   NDA         NDA018781  Eli Lilly and Company   \n",
       "1                   NDA         NDA202008  Eli Lilly and Company   \n",
       "2                   NDA         NDA007529  Eli Lilly and Company   \n",
       "3                   BLA         BLA125469  Eli Lilly and Company   \n",
       "4                   BLA         BLA125469  Eli Lilly and Company   \n",
       "\n",
       "         SUBSTANCENAME ACTIVE_NUMERATOR_STRENGTH ACTIVE_INGRED_UNIT  \\\n",
       "0                WATER                         1              mL/mL   \n",
       "1     FLORBETAPIR F-18                        51             mCi/mL   \n",
       "2  QUINIDINE GLUCONATE                        80              mg/mL   \n",
       "3          DULAGLUTIDE                      0.75            mg/.5mL   \n",
       "4          DULAGLUTIDE                       1.5            mg/.5mL   \n",
       "\n",
       "                                       PHARM_CLASSES  \\\n",
       "0                                                NaN   \n",
       "1  Radioactive Diagnostic Agent [EPC],Positron Em...   \n",
       "2  Antiarrhythmic [EPC],Cytochrome P450 2D6 Inhib...   \n",
       "3  GLP-1 Receptor Agonist [EPC],Glucagon-Like Pep...   \n",
       "4  GLP-1 Receptor Agonist [EPC],Glucagon-Like Pep...   \n",
       "\n",
       "  LISTING_RECORD_CERTIFIED_THROUGH  starting_year dosage_form     dosage  \n",
       "0                       2019-12-31         1987.0   INJECTION  INJECTION  \n",
       "1                       2019-12-31         2012.0   INJECTION  INJECTION  \n",
       "2                       2019-12-31         1950.0    SOLUTION   SOLUTION  \n",
       "3                       2019-12-31         2014.0   INJECTION  INJECTION  \n",
       "4                       2019-12-31         2014.0   INJECTION  INJECTION  "
      ]
     },
     "execution_count": 20,
     "metadata": {},
     "output_type": "execute_result"
    }
   ],
   "source": [
    "dosage_frame = product\n",
    "dosage_frame.loc[: ,'dosage'] = dosage_format_lst\n",
    "dosage_frame.head()\n"
   ]
  },
  {
   "cell_type": "code",
   "execution_count": 21,
   "metadata": {},
   "outputs": [],
   "source": [
    "dosage_frame = dosage_frame.loc[dosage_frame['dosage'].isin(dosage.index)]"
   ]
  },
  {
   "cell_type": "markdown",
   "metadata": {},
   "source": [
    "This is the boxplot of  the relationship between chosen dosage_form and year into market. We could find some outliers in this data. From our point of view, most of the outlier after 1960 could shows that there are several peak for dosage form innovation. So there are more than one technology revolution for dosage form. Thus, these outliers are useful."
   ]
  },
  {
   "cell_type": "code",
   "execution_count": 22,
   "metadata": {},
   "outputs": [
    {
     "data": {
      "text/plain": [
       "<matplotlib.axes._subplots.AxesSubplot at 0x7fb107babb70>"
      ]
     },
     "execution_count": 22,
     "metadata": {},
     "output_type": "execute_result"
    },
    {
     "data": {
      "image/png": "[encoded data removed]",
      "text/plain": [
       "<Figure size 432x288 with 1 Axes>"
      ]
     },
     "metadata": {
      "needs_background": "light"
     },
     "output_type": "display_data"
    }
   ],
   "source": [
    "sns.boxplot(x=dosage_frame['dosage'], y=dosage_frame['STARTMARKETINGDATE'].dt.year, data=dosage_frame)"
   ]
  },
  {
   "cell_type": "markdown",
   "metadata": {},
   "source": [
    "This is the bar chart of which product type is popular in the market. From the result we know that human OTC drug is popular so this is the reason we wish to analyze human OTC drug in the third real-word question."
   ]
  },
  {
   "cell_type": "code",
   "execution_count": 23,
   "metadata": {},
   "outputs": [
    {
     "name": "stderr",
     "output_type": "stream",
     "text": [
      "/home/wangqingxu/.local/lib/python3.6/site-packages/ipykernel_launcher.py:2: SettingWithCopyWarning: \n",
      "A value is trying to be set on a copy of a slice from a DataFrame.\n",
      "Try using .loc[row_indexer,col_indexer] = value instead\n",
      "\n",
      "See the caveats in the documentation: http://pandas.pydata.org/pandas-docs/stable/indexing.html#indexing-view-versus-copy\n",
      "  \n"
     ]
    },
    {
     "data": {
      "image/png": "[encoded data removed]",
      "text/plain": [
       "<Figure size 2160x720 with 1 Axes>"
      ]
     },
     "metadata": {
      "needs_background": "light"
     },
     "output_type": "display_data"
    }
   ],
   "source": [
    "labeler = product[['PRODUCTTYPENAME']]\n",
    "labeler['total'] = labeler.groupby(['PRODUCTTYPENAME'])['PRODUCTTYPENAME'].transform('count')\n",
    "labeler = labeler.drop_duplicates(['PRODUCTTYPENAME'])\n",
    "\n",
    "g = sns.catplot(x=\"PRODUCTTYPENAME\", y=\"total\", kind=\"bar\", data=labeler)\n",
    "g.fig.set_size_inches(30,10)"
   ]
  },
  {
   "cell_type": "markdown",
   "metadata": {},
   "source": [
    "The vilent plot also shows the same result as the bar chart"
   ]
  },
  {
   "cell_type": "code",
   "execution_count": 24,
   "metadata": {},
   "outputs": [
    {
     "name": "stderr",
     "output_type": "stream",
     "text": [
      "/home/wangqingxu/.local/lib/python3.6/site-packages/ipykernel_launcher.py:2: SettingWithCopyWarning: \n",
      "A value is trying to be set on a copy of a slice from a DataFrame.\n",
      "Try using .loc[row_indexer,col_indexer] = value instead\n",
      "\n",
      "See the caveats in the documentation: http://pandas.pydata.org/pandas-docs/stable/indexing.html#indexing-view-versus-copy\n",
      "  \n"
     ]
    },
    {
     "data": {
      "image/png": "[encoded data removed]",
      "text/plain": [
       "<Figure size 2160x720 with 1 Axes>"
      ]
     },
     "metadata": {
      "needs_background": "light"
     },
     "output_type": "display_data"
    }
   ],
   "source": [
    "product_start = product[product['STARTMARKETINGDATE'].notna()]\n",
    "product_start['STARTMARKETINGDATE'] = product_start['STARTMARKETINGDATE'].dt.year\n",
    "g = sns.catplot(x=\"PRODUCTTYPENAME\", y=\"STARTMARKETINGDATE\", kind=\"violin\", data=product_start);\n",
    "g.fig.set_size_inches(30,10)"
   ]
  },
  {
   "cell_type": "markdown",
   "metadata": {},
   "source": [
    "This is the box plot of shows the distribution of dosage form of all the OTC drugs. There is a form which is a lot higher than others so this form is dosage form most people use. This answer the third real-world question. The most useful form is LIQUID and the least useful form is CAPSULE, DELAYED RELEASE PELLETS."
   ]
  },
  {
   "cell_type": "code",
   "execution_count": 25,
   "metadata": {},
   "outputs": [
    {
     "name": "stderr",
     "output_type": "stream",
     "text": [
      "/home/wangqingxu/.local/lib/python3.6/site-packages/ipykernel_launcher.py:3: SettingWithCopyWarning: \n",
      "A value is trying to be set on a copy of a slice from a DataFrame.\n",
      "Try using .loc[row_indexer,col_indexer] = value instead\n",
      "\n",
      "See the caveats in the documentation: http://pandas.pydata.org/pandas-docs/stable/indexing.html#indexing-view-versus-copy\n",
      "  This is separate from the ipykernel package so we can avoid doing imports until\n",
      "'c' argument looks like a single numeric RGB or RGBA sequence, which should be avoided as value-mapping will have precedence in case its length matches with 'x' & 'y'.  Please use a 2-D array with a single row if you really want to specify the same RGB or RGBA value for all points.\n"
     ]
    },
    {
     "data": {
      "text/plain": [
       "<seaborn.axisgrid.FacetGrid at 0x7fb10787a6a0>"
      ]
     },
     "execution_count": 25,
     "metadata": {},
     "output_type": "execute_result"
    },
    {
     "data": {
      "image/png": "[encoded data removed]",
      "text/plain": [
       "<Figure size 360x360 with 1 Axes>"
      ]
     },
     "metadata": {
      "needs_background": "light"
     },
     "output_type": "display_data"
    }
   ],
   "source": [
    "otc = product.loc[product['PRODUCTTYPENAME'] == 'HUMAN OTC DRUG']\n",
    "Otc = otc[['DOSAGEFORMNAME']]\n",
    "Otc['total'] = otc.groupby(['DOSAGEFORMNAME'])['DOSAGEFORMNAME'].transform('count')\n",
    "Otc = Otc.drop_duplicates(['DOSAGEFORMNAME'])\n",
    "\n",
    "sns.catplot(x='total', kind=\"boxen\", data=Otc)\n"
   ]
  },
  {
   "cell_type": "code",
   "execution_count": 26,
   "metadata": {},
   "outputs": [
    {
     "data": {
      "text/plain": [
       "'LIQUID'"
      ]
     },
     "execution_count": 26,
     "metadata": {},
     "output_type": "execute_result"
    }
   ],
   "source": [
    "Otc1 = Otc.groupby('DOSAGEFORMNAME').sum()\n",
    "Otc1\n",
    "Otc1['total'].idxmax()"
   ]
  },
  {
   "cell_type": "code",
   "execution_count": 27,
   "metadata": {},
   "outputs": [
    {
     "data": {
      "text/plain": [
       "'CAPSULE, DELAYED RELEASE PELLETS'"
      ]
     },
     "execution_count": 27,
     "metadata": {},
     "output_type": "execute_result"
    }
   ],
   "source": [
    "Otc1['total'].idxmin()"
   ]
  },
  {
   "cell_type": "code",
   "execution_count": null,
   "metadata": {},
   "outputs": [],
   "source": []
  }
 ],
 "metadata": {
  "kernelspec": {
   "display_name": "Python 3",
   "language": "python",
   "name": "python3"
  },
  "language_info": {
   "codemirror_mode": {
    "name": "ipython",
    "version": 3
   },
   "file_extension": ".py",
   "mimetype": "text/x-python",
   "name": "python",
   "nbconvert_exporter": "python",
   "pygments_lexer": "ipython3",
   "version": "3.6.7"
  }
 },
 "nbformat": 4,
 "nbformat_minor": 2
}
